{
 "cells": [
  {
   "cell_type": "code",
   "execution_count": 2,
   "metadata": {},
   "outputs": [],
   "source": [
    "def hamming_7_4(s:str):\n",
    "    assert(len(s)==4)\n",
    "    p1 = str(int(s[0])^int(s[1])^int(s[3]))\n",
    "    p2 = str(int(s[0])^int(s[2])^int(s[3]))\n",
    "    p3 = str(int(s[1])^int(s[2])^int(s[3]))\n",
    "\n",
    "    return str(p1 + p2 + s[0] + p3 + s[1] + s[2] + s[3])"
   ]
  },
  {
   "cell_type": "code",
   "execution_count": 7,
   "metadata": {},
   "outputs": [
    {
     "data": {
      "text/plain": [
       "'0110011'"
      ]
     },
     "execution_count": 7,
     "metadata": {},
     "output_type": "execute_result"
    }
   ],
   "source": [
    "hamming_7_4(\"1011\")"
   ]
  },
  {
   "cell_type": "code",
   "execution_count": 9,
   "metadata": {},
   "outputs": [],
   "source": [
    "def hamming_8_4(s:str):\n",
    "    assert(len(s)==4)\n",
    "    x = hamming_7_4(s)\n",
    "    r = 0\n",
    "    for i in range(7):\n",
    "        r= r^int(x[i])\n",
    "    return str(r)+x"
   ]
  },
  {
   "cell_type": "code",
   "execution_count": 42,
   "metadata": {},
   "outputs": [
    {
     "name": "stdout",
     "output_type": "stream",
     "text": [
      "00110011\n"
     ]
    }
   ],
   "source": [
    "print(hamming_8_4(\"1011\"))\n"
   ]
  },
  {
   "cell_type": "code",
   "execution_count": 43,
   "metadata": {},
   "outputs": [
    {
     "name": "stdout",
     "output_type": "stream",
     "text": [
      "[[1. 1. 1. 0.]\n",
      " [1. 1. 0. 1.]\n",
      " [1. 0. 1. 1.]\n",
      " [1. 0. 0. 0.]\n",
      " [0. 1. 1. 1.]\n",
      " [0. 1. 0. 0.]\n",
      " [0. 0. 1. 0.]\n",
      " [0. 0. 0. 1.]]\n"
     ]
    }
   ],
   "source": [
    "import numpy as np \n",
    "generatrice = np.zeros((8,4))\n",
    "\n",
    "colonnes = [hamming_8_4(\"1000\"),hamming_8_4(\"0100\"),hamming_8_4(\"0010\"),hamming_8_4(\"0001\")]\n",
    "\n",
    "for i in range(8):\n",
    "    for j in range(4):\n",
    "        generatrice[i][j] = colonnes[j][i]\n",
    "        \n",
    "print(generatrice)"
   ]
  },
  {
   "cell_type": "code",
   "execution_count": 44,
   "metadata": {},
   "outputs": [
    {
     "name": "stdout",
     "output_type": "stream",
     "text": [
      "[[0.]\n",
      " [0.]\n",
      " [1.]\n",
      " [1.]\n",
      " [0.]\n",
      " [0.]\n",
      " [1.]\n",
      " [1.]]\n"
     ]
    }
   ],
   "source": [
    "code = np.array([[1],[0],[1],[1]])\n",
    "c = np.dot(generatrice,code)\n",
    "# print(c)\n",
    "\n",
    "for i in range(8):\n",
    "    c[i] = c[i]%2\n",
    "print(c)\n"
   ]
  },
  {
   "cell_type": "markdown",
   "metadata": {},
   "source": [
    "https://courspython.com/tableaux-numpy.html"
   ]
  }
 ],
 "metadata": {
  "kernelspec": {
   "display_name": "Python 3",
   "language": "python",
   "name": "python3"
  },
  "language_info": {
   "codemirror_mode": {
    "name": "ipython",
    "version": 3
   },
   "file_extension": ".py",
   "mimetype": "text/x-python",
   "name": "python",
   "nbconvert_exporter": "python",
   "pygments_lexer": "ipython3",
   "version": "3.12.3"
  }
 },
 "nbformat": 4,
 "nbformat_minor": 2
}
