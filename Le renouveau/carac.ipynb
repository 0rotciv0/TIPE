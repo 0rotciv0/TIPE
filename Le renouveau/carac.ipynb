{
 "cells": [
  {
   "cell_type": "markdown",
   "metadata": {},
   "source": [
    "### Encodage et décodage binaire d'une chaine de caractère"
   ]
  },
  {
   "cell_type": "code",
   "execution_count": 4,
   "metadata": {},
   "outputs": [],
   "source": [
    "def char_to_bin(c : str):\n",
    "    assert(len(c) == 1)\n",
    "    return bin(ord(c))\n",
    "\n",
    "def string_to_bin(s : str): \n",
    "    t = []\n",
    "    for carac in s :\n",
    "        t.append(char_to_bin(carac))\n",
    "    return t"
   ]
  },
  {
   "cell_type": "code",
   "execution_count": 5,
   "metadata": {},
   "outputs": [
    {
     "name": "stdout",
     "output_type": "stream",
     "text": [
      "0b1000001\n",
      "0b1111010\n",
      "['0b1001010', '0b100111', '0b1100001', '0b1101001', '0b1101101', '0b1100101', '0b100000', '0b1101100', '0b1100101', '0b1110011', '0b100000', '0b1101100', '0b1100001', '0b1110011', '0b1100001', '0b1100111', '0b1101110', '0b1100101', '0b1110011']\n"
     ]
    }
   ],
   "source": [
    "print(char_to_bin('A'))\n",
    "print(char_to_bin('z'))\n",
    "print(string_to_bin(\"J'aime les lasagnes\"))"
   ]
  },
  {
   "cell_type": "code",
   "execution_count": 10,
   "metadata": {},
   "outputs": [],
   "source": [
    "def bin_to_char(b :str):\n",
    "    return chr(int(b[2:], 2))\n",
    "\n",
    "def bin_to_string(t : list):\n",
    "    chaine = \"\"\n",
    "    for nb in t :\n",
    "        chaine += bin_to_char(nb)\n",
    "    return chaine "
   ]
  },
  {
   "cell_type": "code",
   "execution_count": null,
   "metadata": {},
   "outputs": [
    {
     "data": {
      "text/plain": [
       "\"J'aime les lasagnes\""
      ]
     },
     "execution_count": 12,
     "metadata": {},
     "output_type": "execute_result"
    }
   ],
   "source": [
    "print(bin_to_char(\"0b1000011\"))\n",
    "print(bin_to_string(['0b1001010', '0b100111', '0b1100001', '0b1101001', '0b1101101', '0b1100101', '0b100000', '0b1101100', '0b1100101', '0b1110011', '0b100000', '0b1101100', '0b1100001', '0b1110011', '0b1100001', '0b1100111', '0b1101110', '0b1100101', '0b1110011']))\n"
   ]
  },
  {
   "cell_type": "code",
   "execution_count": null,
   "metadata": {},
   "outputs": [],
   "source": []
  }
 ],
 "metadata": {
  "kernelspec": {
   "display_name": "Python 3",
   "language": "python",
   "name": "python3"
  },
  "language_info": {
   "codemirror_mode": {
    "name": "ipython",
    "version": 3
   },
   "file_extension": ".py",
   "mimetype": "text/x-python",
   "name": "python",
   "nbconvert_exporter": "python",
   "pygments_lexer": "ipython3",
   "version": "3.12.3"
  }
 },
 "nbformat": 4,
 "nbformat_minor": 2
}
