{
 "cells": [
  {
   "cell_type": "code",
   "execution_count": 1,
   "id": "dc468bd2",
   "metadata": {},
   "outputs": [
    {
     "name": "stdout",
     "output_type": "stream",
     "text": [
      "100110011011010001010101000111101100110011010010110011000011001111001100101010101100110001001011010101010000000011001100011110001100110001001011000111101000011101010101000000001100110010101010110011001101001000011110100110011100110011100001001011010011001111001100101010101100110011010010000111101001100111001100001100110001111011010010000111100100101111001100010010110001111010000111\n",
      "010010100010011101100001011010010110110101100101001000000110110001100101011100110010000001101101011000010111010001101000111010010110110101100001011101000110100101110001011101010110010101110011\n"
     ]
    }
   ],
   "source": [
    "from hamming import hamming_8_4, decodage_chaine\n",
    "from carac import string_to_bin_string \n",
    "\n",
    "s = string_to_bin_string(\"J'aime les mathématiques\")\n",
    "\n",
    "nouv_s = \"\"\n",
    "for i in range(0,int(len(s)/4)+1):\n",
    "    bloc = s[4*i : 4*(i+1)]\n",
    "    # print(bloc)\n",
    "    if len(bloc) == 4 :\n",
    "        x = hamming_8_4(bloc)\n",
    "        # print(x)\n",
    "        nouv_s += x\n",
    "    else : \n",
    "        nouv_s += bloc\n",
    "\n",
    "print(nouv_s)\n",
    "\n",
    "print(decodage_chaine(nouv_s))"
   ]
  },
  {
   "cell_type": "code",
   "execution_count": 12,
   "id": "49bba70d",
   "metadata": {},
   "outputs": [
    {
     "data": {
      "text/plain": [
       "'10110100'"
      ]
     },
     "execution_count": 12,
     "metadata": {},
     "output_type": "execute_result"
    }
   ],
   "source": [
    "from hamming import hamming_7_4\n",
    "def hamming_8_4(s:str):\n",
    "    assert(len(s)==4)\n",
    "    x = hamming_7_4(s)\n",
    "    r = 0\n",
    "    for i in range(7):\n",
    "        r= r^int(x[i])\n",
    "    return x + str(r)\n",
    "\n",
    "def décodage_8_4(s:str):\n",
    "    assert(len(s)==8)\n",
    "    g = 0\n",
    "    for i in range(7):\n",
    "        g^= int(s[i])\n",
    "\n",
    "    #print(g)\n",
    "\n",
    "    s1 = int(s[0]) ^ int(s[2]) ^ int(s[4]) ^ int(s[6])\n",
    "    s2 = int(s[1]) ^ int(s[2]) ^ int(s[5]) ^ int(s[6])\n",
    "    s3 = int(s[3]) ^ int(s[4]) ^ int(s[5]) ^ int(s[6])\n",
    "\n",
    "    syndrome = str(s3) + str(s2) + str(s1)\n",
    "    #print(syndrome)\n",
    "\n",
    "    if g != int(s[7]) : \n",
    "\n",
    "        i = int(syndrome,2)\n",
    "        s = s[:i-1] + str(int(s[i-1])^1) + s[i:]\n",
    "\n",
    "    return s\n",
    "\n",
    "décodage_8_4(\"10110100\")"
   ]
  },
  {
   "cell_type": "code",
   "execution_count": null,
   "id": "774b5512",
   "metadata": {},
   "outputs": [],
   "source": [
    "s = \"azertyuiopqsdfghjklmwxcvbn\"\n",
    "\n",
    "for i in range(len(s)//8):\n",
    "    print(s[i*8:(i+1)*8])"
   ]
  },
  {
   "cell_type": "code",
   "execution_count": 3,
   "id": "898d6265",
   "metadata": {},
   "outputs": [
    {
     "data": {
      "text/plain": [
       "76"
      ]
     },
     "execution_count": 3,
     "metadata": {},
     "output_type": "execute_result"
    }
   ],
   "source": [
    "chr(250)\n",
    "ord(\"L\")"
   ]
  },
  {
   "cell_type": "code",
   "execution_count": 7,
   "id": "75f44f8e",
   "metadata": {},
   "outputs": [
    {
     "name": "stdout",
     "output_type": "stream",
     "text": [
      " 01001100 01000001 00100000 01010011 01010100 01010010 01000001 01010011 01000010 01001111 01010101 01010010 01000111 01000101 01001111 01001001 01010011 01000101"
     ]
    }
   ],
   "source": [
    "from carac import string_to_bin_string\n",
    "\n",
    "s = string_to_bin_string(\"LA STRASBOURGEOISE\")\n",
    "for i in range(len(s)):\n",
    "    if i % 8 == 0 : \n",
    "        print(\" \", end=\"\")\n",
    "    print(s[i], end=\"\")"
   ]
  },
  {
   "cell_type": "code",
   "execution_count": null,
   "id": "8cd9d75a",
   "metadata": {},
   "outputs": [],
   "source": []
  }
 ],
 "metadata": {
  "kernelspec": {
   "display_name": "Python 3",
   "language": "python",
   "name": "python3"
  },
  "language_info": {
   "codemirror_mode": {
    "name": "ipython",
    "version": 3
   },
   "file_extension": ".py",
   "mimetype": "text/x-python",
   "name": "python",
   "nbconvert_exporter": "python",
   "pygments_lexer": "ipython3",
   "version": "3.11.9"
  }
 },
 "nbformat": 4,
 "nbformat_minor": 5
}
