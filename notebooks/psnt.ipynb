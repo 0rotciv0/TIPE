{
 "cells": [
  {
   "cell_type": "code",
   "execution_count": 1,
   "id": "97d74222",
   "metadata": {},
   "outputs": [],
   "source": [
    "from PIL import Image\n",
    "from math import log10\n",
    "\n",
    "def mse (i1 : str, i2 : str):\n",
    "    image1 = Image.open(i1)\n",
    "    image2 = Image.open(i2)\n",
    "    \n",
    "    assert(image1.size == image2.size)\n",
    "\n",
    "    m, n = image1.size\n",
    "\n",
    "    result = 0\n",
    "\n",
    "    for i in range(m):\n",
    "        for j in range(n):\n",
    "            for k in range(3):\n",
    "                result += (image1.getpixel((i,j))[k] - image2.getpixel((i,j))[k])**2\n",
    "    \n",
    "    return result / (3*m*n)\n",
    "\n",
    "\n",
    "\n",
    "\n"
   ]
  },
  {
   "cell_type": "code",
   "execution_count": null,
   "id": "8082ebed",
   "metadata": {},
   "outputs": [
    {
     "ename": "FileNotFoundError",
     "evalue": "[Errno 2] No such file or directory: 'C:/Github/TIPE/Présentation/Images/f_7_101_t.png'",
     "output_type": "error",
     "traceback": [
      "\u001b[1;31m---------------------------------------------------------------------------\u001b[0m",
      "\u001b[1;31mFileNotFoundError\u001b[0m                         Traceback (most recent call last)",
      "Cell \u001b[1;32mIn[3], line 1\u001b[0m\n\u001b[1;32m----> 1\u001b[0m \u001b[43mmse\u001b[49m\u001b[43m(\u001b[49m\u001b[38;5;124;43m\"\u001b[39;49m\u001b[38;5;124;43mC:/Github/TIPE/tests/terre.jpg\u001b[39;49m\u001b[38;5;124;43m\"\u001b[39;49m\u001b[43m,\u001b[49m\u001b[38;5;124;43m\"\u001b[39;49m\u001b[38;5;124;43mC:/Github/TIPE/Présentation/Images/f_7_101_t.png\u001b[39;49m\u001b[38;5;124;43m\"\u001b[39;49m\u001b[43m)\u001b[49m\n",
      "Cell \u001b[1;32mIn[1], line 6\u001b[0m, in \u001b[0;36mmse\u001b[1;34m(i1, i2)\u001b[0m\n\u001b[0;32m      4\u001b[0m \u001b[38;5;28;01mdef\u001b[39;00m \u001b[38;5;21mmse\u001b[39m (i1 : \u001b[38;5;28mstr\u001b[39m, i2 : \u001b[38;5;28mstr\u001b[39m):\n\u001b[0;32m      5\u001b[0m     image1 \u001b[38;5;241m=\u001b[39m Image\u001b[38;5;241m.\u001b[39mopen(i1)\n\u001b[1;32m----> 6\u001b[0m     image2 \u001b[38;5;241m=\u001b[39m \u001b[43mImage\u001b[49m\u001b[38;5;241;43m.\u001b[39;49m\u001b[43mopen\u001b[49m\u001b[43m(\u001b[49m\u001b[43mi2\u001b[49m\u001b[43m)\u001b[49m\n\u001b[0;32m      8\u001b[0m     \u001b[38;5;28;01massert\u001b[39;00m(image1\u001b[38;5;241m.\u001b[39msize \u001b[38;5;241m==\u001b[39m image2\u001b[38;5;241m.\u001b[39msize)\n\u001b[0;32m     10\u001b[0m     m, n \u001b[38;5;241m=\u001b[39m image1\u001b[38;5;241m.\u001b[39msize\n",
      "File \u001b[1;32m~\\AppData\\Local\\Packages\\PythonSoftwareFoundation.Python.3.11_qbz5n2kfra8p0\\LocalCache\\local-packages\\Python311\\site-packages\\PIL\\Image.py:3247\u001b[0m, in \u001b[0;36mopen\u001b[1;34m(fp, mode, formats)\u001b[0m\n\u001b[0;32m   3244\u001b[0m     filename \u001b[38;5;241m=\u001b[39m fp\n\u001b[0;32m   3246\u001b[0m \u001b[38;5;28;01mif\u001b[39;00m filename:\n\u001b[1;32m-> 3247\u001b[0m     fp \u001b[38;5;241m=\u001b[39m \u001b[43mbuiltins\u001b[49m\u001b[38;5;241;43m.\u001b[39;49m\u001b[43mopen\u001b[49m\u001b[43m(\u001b[49m\u001b[43mfilename\u001b[49m\u001b[43m,\u001b[49m\u001b[43m \u001b[49m\u001b[38;5;124;43m\"\u001b[39;49m\u001b[38;5;124;43mrb\u001b[39;49m\u001b[38;5;124;43m\"\u001b[39;49m\u001b[43m)\u001b[49m\n\u001b[0;32m   3248\u001b[0m     exclusive_fp \u001b[38;5;241m=\u001b[39m \u001b[38;5;28;01mTrue\u001b[39;00m\n\u001b[0;32m   3250\u001b[0m \u001b[38;5;28;01mtry\u001b[39;00m:\n",
      "\u001b[1;31mFileNotFoundError\u001b[0m: [Errno 2] No such file or directory: 'C:/Github/TIPE/Présentation/Images/f_7_101_t.png'"
     ]
    }
   ],
   "source": [
    "mse(\"C:/Github/TIPE/tests/terre.jpg\",\"C:/Github/TIPE/Présentation/Images/f_7_101_t.jpg\")"
   ]
  },
  {
   "cell_type": "code",
   "execution_count": 25,
   "id": "386ae6ae",
   "metadata": {},
   "outputs": [],
   "source": [
    "def psnr(im1 : str, im2 : str):\n",
    "    x = mse(im1,im2)\n",
    "    if x == 0 :\n",
    "        print(\"Les deux images sont identiques : dB=100\")\n",
    "    else:\n",
    "        return 10 * log10((255**2)/x)"
   ]
  },
  {
   "cell_type": "code",
   "execution_count": 26,
   "id": "0d666b50",
   "metadata": {},
   "outputs": [],
   "source": [
    "def tests():\n",
    "    valeurs = []\n",
    "    for i in range(1, 9):\n",
    "        print(f\"test_{i} : \", end=\"\\t\")\n",
    "        x = psnr(\"C:/Github/TIPE/tests/terre.jpg\",f\"C:/Github/TIPE/tests/r&j/test_{i}.jpg\")\n",
    "        print(round(x,2), \" dB\")\n",
    "        valeurs.append(x)\n",
    "\n",
    "    return valeurs "
   ]
  },
  {
   "cell_type": "code",
   "execution_count": 27,
   "id": "663a1d4e",
   "metadata": {},
   "outputs": [
    {
     "name": "stdout",
     "output_type": "stream",
     "text": [
      "test_1 : \t31.21  dB\n",
      "test_2 : \t31.21  dB\n",
      "test_3 : \t31.13  dB\n",
      "test_4 : \t30.9  dB\n",
      "test_5 : \t29.4  dB\n",
      "test_6 : \t26.56  dB\n",
      "test_7 : \t21.67  dB\n",
      "test_8 : \t18.48  dB\n"
     ]
    },
    {
     "data": {
      "text/plain": [
       "[<matplotlib.lines.Line2D at 0x2c43eee1d90>]"
      ]
     },
     "execution_count": 27,
     "metadata": {},
     "output_type": "execute_result"
    },
    {
     "data": {
      "image/png": "[encoded data removed]",
      "text/plain": [
       "<Figure size 640x480 with 1 Axes>"
      ]
     },
     "metadata": {},
     "output_type": "display_data"
    }
   ],
   "source": [
    "import matplotlib.pyplot as plt\n",
    "\n",
    "plt.plot([i for i in range(1,9)], tests())"
   ]
  },
  {
   "cell_type": "code",
   "execution_count": 28,
   "id": "0095f06d",
   "metadata": {},
   "outputs": [
    {
     "data": {
      "text/plain": [
       "24.12963477225563"
      ]
     },
     "execution_count": 28,
     "metadata": {},
     "output_type": "execute_result"
    }
   ],
   "source": [
    "import cv2\n",
    "\n",
    "cv2.PSNR(cv2.imread(\"C:/Github/TIPE/tests/terre.jpg\"), cv2.imread(\"C:/Github/TIPE/tests/terre_6.jpg\"))"
   ]
  }
 ],
 "metadata": {
  "kernelspec": {
   "display_name": "Python 3",
   "language": "python",
   "name": "python3"
  },
  "language_info": {
   "codemirror_mode": {
    "name": "ipython",
    "version": 3
   },
   "file_extension": ".py",
   "mimetype": "text/x-python",
   "name": "python",
   "nbconvert_exporter": "python",
   "pygments_lexer": "ipython3",
   "version": "3.11.9"
  }
 },
 "nbformat": 4,
 "nbformat_minor": 5
}
