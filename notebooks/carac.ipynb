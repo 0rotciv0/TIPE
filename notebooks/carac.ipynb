{
 "cells": [
  {
   "cell_type": "markdown",
   "metadata": {},
   "source": [
    "### Encodage et décodage binaire d'une chaine de caractère"
   ]
  },
  {
   "cell_type": "code",
   "execution_count": 20,
   "metadata": {},
   "outputs": [],
   "source": [
    "def char_to_bin(c : str):\n",
    "    assert(len(c) == 1)\n",
    "    return format(ord(c),'08b')\n",
    "\n",
    "def string_to_bin(s : str): \n",
    "    t = []\n",
    "    for carac in s :\n",
    "        t.append(char_to_bin(carac))\n",
    "    return t"
   ]
  },
  {
   "cell_type": "code",
   "execution_count": 21,
   "metadata": {},
   "outputs": [
    {
     "name": "stdout",
     "output_type": "stream",
     "text": [
      "01000001\n",
      "01111010\n",
      "['01001010', '00100111', '01100001', '01101001', '01101101', '01100101', '00100000', '01101100', '01100101', '01110011', '00100000', '01101100', '01100001', '01110011', '01100001', '01100111', '01101110', '01100101', '01110011']\n"
     ]
    }
   ],
   "source": [
    "print(char_to_bin('A'))\n",
    "print(char_to_bin('z'))\n",
    "print(string_to_bin(\"J'aime les lasagnes\"))"
   ]
  },
  {
   "cell_type": "code",
   "execution_count": 22,
   "metadata": {},
   "outputs": [],
   "source": [
    "def bin_to_char(b :str):\n",
    "    return chr(int(b[2:], 2))\n",
    "\n",
    "def bin_to_string(t : list):\n",
    "    chaine = \"\"\n",
    "    for nb in t :\n",
    "        chaine += bin_to_char(nb)\n",
    "    return chaine "
   ]
  },
  {
   "cell_type": "code",
   "execution_count": 26,
   "metadata": {},
   "outputs": [],
   "source": [
    "def partitionner_4_string(s : str) : \n",
    "    l = string_to_bin(s) \n",
    "    resultat = []\n",
    "    for elem in l : \n",
    "        resultat.append(elem[:4])\n",
    "        resultat.append(elem[4:])\n",
    "    return resultat"
   ]
  },
  {
   "cell_type": "code",
   "execution_count": 27,
   "metadata": {},
   "outputs": [
    {
     "data": {
      "text/plain": [
       "['0100',\n",
       " '1010',\n",
       " '0010',\n",
       " '0111',\n",
       " '0110',\n",
       " '0001',\n",
       " '0110',\n",
       " '1001',\n",
       " '0110',\n",
       " '1101',\n",
       " '0110',\n",
       " '0101',\n",
       " '0010',\n",
       " '0000',\n",
       " '0110',\n",
       " '1100',\n",
       " '0110',\n",
       " '0101',\n",
       " '0111',\n",
       " '0011',\n",
       " '0010',\n",
       " '0000',\n",
       " '0110',\n",
       " '1100',\n",
       " '0110',\n",
       " '0001',\n",
       " '0111',\n",
       " '0011',\n",
       " '0110',\n",
       " '0001',\n",
       " '0110',\n",
       " '0111',\n",
       " '0110',\n",
       " '1110',\n",
       " '0110',\n",
       " '0101',\n",
       " '0111',\n",
       " '0011']"
      ]
     },
     "execution_count": 27,
     "metadata": {},
     "output_type": "execute_result"
    }
   ],
   "source": [
    "partitionner_4_string(\"J'aime les lasagnes\")"
   ]
  },
  {
   "cell_type": "code",
   "execution_count": 19,
   "metadata": {},
   "outputs": [
    {
     "data": {
      "text/plain": [
       "'0b10110101'"
      ]
     },
     "execution_count": 19,
     "metadata": {},
     "output_type": "execute_result"
    }
   ],
   "source": [
    "bin(ord('µ'))"
   ]
  },
  {
   "cell_type": "code",
   "execution_count": 4,
   "metadata": {},
   "outputs": [
    {
     "name": "stdout",
     "output_type": "stream",
     "text": [
      "fio\n",
      "\n"
     ]
    }
   ],
   "source": [
    "print(\"fioezjfioze\"[:3])\n",
    "print(\"fioezjfioze\"[30:])"
   ]
  },
  {
   "cell_type": "code",
   "execution_count": null,
   "metadata": {},
   "outputs": [],
   "source": []
  }
 ],
 "metadata": {
  "kernelspec": {
   "display_name": "Python 3",
   "language": "python",
   "name": "python3"
  },
  "language_info": {
   "codemirror_mode": {
    "name": "ipython",
    "version": 3
   },
   "file_extension": ".py",
   "mimetype": "text/x-python",
   "name": "python",
   "nbconvert_exporter": "python",
   "pygments_lexer": "ipython3",
   "version": "3.12.3"
  }
 },
 "nbformat": 4,
 "nbformat_minor": 2
}
