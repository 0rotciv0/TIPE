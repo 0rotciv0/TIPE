{
 "cells": [
  {
   "cell_type": "code",
   "execution_count": 1,
   "id": "ac038135",
   "metadata": {},
   "outputs": [],
   "source": [
    "from PIL import Image\n",
    "import random\n",
    "\n",
    "def ajouter_bruit(chemin, intensite_bruit=0.01):\n",
    "\n",
    "    img = Image.open(chemin).convert(\"RGB\")\n",
    "    pixels = img.load()\n",
    "    largeur, hauteur = img.size\n",
    "\n",
    "    nombre_pixels = int(largeur * hauteur * intensite_bruit)\n",
    "\n",
    "    for _ in range(nombre_pixels):\n",
    "        x = random.randint(0, largeur - 1)\n",
    "        y = random.randint(0, hauteur - 1)\n",
    "        r, g, b = pixels[x, y]\n",
    "\n",
    "        # Choisir une composante aléatoire à modifier\n",
    "        composante = random.choice([0, 1, 2])\n",
    "        bruit = random.randint(0, 255)\n",
    "\n",
    "        if composante == 0:\n",
    "            pixels[x, y] = (bruit, g, b)\n",
    "        elif composante == 1:\n",
    "            pixels[x, y] = (r, bruit, b)\n",
    "        else:\n",
    "            pixels[x, y] = (r, g, bruit)\n",
    "\n",
    "    img.show()\n"
   ]
  },
  {
   "cell_type": "code",
   "execution_count": 8,
   "id": "e12e5d2e",
   "metadata": {},
   "outputs": [],
   "source": [
    "ajouter_bruit(\"C:/Github/TIPE/tests/terre.jpg\",0.001)"
   ]
  },
  {
   "cell_type": "code",
   "execution_count": null,
   "id": "96247d29",
   "metadata": {},
   "outputs": [],
   "source": []
  }
 ],
 "metadata": {
  "kernelspec": {
   "display_name": "Python 3",
   "language": "python",
   "name": "python3"
  },
  "language_info": {
   "codemirror_mode": {
    "name": "ipython",
    "version": 3
   },
   "file_extension": ".py",
   "mimetype": "text/x-python",
   "name": "python",
   "nbconvert_exporter": "python",
   "pygments_lexer": "ipython3",
   "version": "3.11.9"
  }
 },
 "nbformat": 4,
 "nbformat_minor": 5
}
