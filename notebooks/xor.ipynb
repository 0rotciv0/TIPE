{
 "cells": [
  {
   "cell_type": "code",
   "execution_count": 33,
   "id": "d2745db2",
   "metadata": {},
   "outputs": [],
   "source": [
    "def xor(chaine : str, cle: str):\n",
    "    n = len(chaine)\n",
    "    assert(n <= len(cle))\n",
    "    result = \"\"\n",
    "\n",
    "    for i in range(n):\n",
    "        result += str(int(chaine[i])^int(cle[i]))\n",
    "\n",
    "    return result"
   ]
  },
  {
   "cell_type": "code",
   "execution_count": 36,
   "id": "cb1c79a0",
   "metadata": {},
   "outputs": [
    {
     "data": {
      "text/plain": [
       "'10'"
      ]
     },
     "execution_count": 36,
     "metadata": {},
     "output_type": "execute_result"
    }
   ],
   "source": [
    "xor(\"11\",\"011\")"
   ]
  },
  {
   "cell_type": "code",
   "execution_count": null,
   "id": "93647f79",
   "metadata": {},
   "outputs": [],
   "source": [
    "def chiffrement(chaine : str, cle : str):\n",
    "    n = len(cle)\n",
    "    result = \"\"\n",
    "    for i in range(0, len(chaine), n):\n",
    "        bloc = chaine[i:i+n]\n",
    "        \n",
    "        result += xor(bloc, cle)\n",
    "\n",
    "    return result"
   ]
  },
  {
   "cell_type": "code",
   "execution_count": 38,
   "id": "ba412720",
   "metadata": {},
   "outputs": [],
   "source": [
    "chiffrement(\"01110101110\", \"101\")"
   ]
  },
  {
   "cell_type": "code",
   "execution_count": null,
   "id": "dbd8d61f",
   "metadata": {},
   "outputs": [],
   "source": [
    "def decodage_chaine(s:str):\n",
    "    result = \"\"\n",
    "    n = 0\n",
    "    while n < len(s)//8:\n",
    "        bloc = s[n:n+8]\n",
    "        result += bloc\n",
    "        n += 1\n",
    "    result += s[n*8:]\n",
    "    return result"
   ]
  },
  {
   "cell_type": "code",
   "execution_count": 13,
   "id": "d511a167",
   "metadata": {},
   "outputs": [
    {
     "data": {
      "text/plain": [
       "'ngfizoenngfizoen'"
      ]
     },
     "execution_count": 13,
     "metadata": {},
     "output_type": "execute_result"
    }
   ],
   "source": [
    "decodage_chaine(\"ngfizoenifgzo\")"
   ]
  },
  {
   "cell_type": "code",
   "execution_count": null,
   "id": "7535b8b8",
   "metadata": {},
   "outputs": [],
   "source": []
  }
 ],
 "metadata": {
  "kernelspec": {
   "display_name": "Python 3",
   "language": "python",
   "name": "python3"
  },
  "language_info": {
   "codemirror_mode": {
    "name": "ipython",
    "version": 3
   },
   "file_extension": ".py",
   "mimetype": "text/x-python",
   "name": "python",
   "nbconvert_exporter": "python",
   "pygments_lexer": "ipython3",
   "version": "3.11.9"
  }
 },
 "nbformat": 4,
 "nbformat_minor": 5
}
