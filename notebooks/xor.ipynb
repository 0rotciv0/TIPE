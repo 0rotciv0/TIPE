{
 "cells": [
  {
   "cell_type": "code",
   "execution_count": 33,
   "id": "d2745db2",
   "metadata": {},
   "outputs": [],
   "source": [
    "def xor(chaine : str, cle: str):\n",
    "    n = len(chaine)\n",
    "    assert(n <= len(cle))\n",
    "    result = \"\"\n",
    "\n",
    "    for i in range(n):\n",
    "        result += str(int(chaine[i])^int(cle[i]))\n",
    "\n",
    "    return result"
   ]
  },
  {
   "cell_type": "code",
   "execution_count": 36,
   "id": "cb1c79a0",
   "metadata": {},
   "outputs": [
    {
     "data": {
      "text/plain": [
       "'10'"
      ]
     },
     "execution_count": 36,
     "metadata": {},
     "output_type": "execute_result"
    }
   ],
   "source": [
    "xor(\"11\",\"011\")"
   ]
  },
  {
   "cell_type": "code",
   "execution_count": null,
   "id": "93647f79",
   "metadata": {},
   "outputs": [],
   "source": [
    "def chiffrement(chaine : str, cle : str):\n",
    "    n = len(cle)\n",
    "    result = \"\"\n",
    "    for i in range(0, len(chaine), n):\n",
    "        bloc = chaine[i:i+n]\n",
    "        \n",
    "        result += xor(bloc, cle)\n",
    "\n",
    "    return result"
   ]
  },
  {
   "cell_type": "code",
   "execution_count": 38,
   "id": "ba412720",
   "metadata": {},
   "outputs": [],
   "source": [
    "chiffrement(\"01110101110\", \"101\")"
   ]
  },
  {
   "cell_type": "code",
   "execution_count": null,
   "id": "dbd8d61f",
   "metadata": {},
   "outputs": [
    {
     "name": "stdout",
     "output_type": "stream",
     "text": [
      "ngvo\n",
      "erng\n",
      ",vir\n",
      "eong\n",
      ",ire\n",
      "on,r\n"
     ]
    }
   ],
   "source": [
    "a = \"ngvoerng,vireong,ireon,rioe\"\n",
    "\n",
    "for i in range(0,int(len(a)/4)+1):\n",
    "    bloc = a[4*i : 4*(i+1)]\n",
    "    print(bloc)"
   ]
  },
  {
   "cell_type": "code",
   "execution_count": null,
   "id": "addff1f1",
   "metadata": {},
   "outputs": [],
   "source": []
  }
 ],
 "metadata": {
  "kernelspec": {
   "display_name": "Python 3",
   "language": "python",
   "name": "python3"
  },
  "language_info": {
   "codemirror_mode": {
    "name": "ipython",
    "version": 3
   },
   "file_extension": ".py",
   "mimetype": "text/x-python",
   "name": "python",
   "nbconvert_exporter": "python",
   "pygments_lexer": "ipython3",
   "version": "3.11.9"
  }
 },
 "nbformat": 4,
 "nbformat_minor": 5
}
