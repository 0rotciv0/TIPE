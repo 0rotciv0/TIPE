{
 "cells": [
  {
   "cell_type": "markdown",
   "metadata": {},
   "source": [
    "## Encodage Hamming"
   ]
  },
  {
   "cell_type": "code",
   "execution_count": 3,
   "metadata": {},
   "outputs": [],
   "source": [
    "def encoder(s : str):\n",
    "    assert(len(s) == 4)\n",
    "    p1 = int(s[0])^int(s[1])^int(s[3])\n",
    "    p2 = int(s[0])^int(s[2])^int(s[3])\n",
    "    p3 = int(s[1])^int(s[2])^int(s[3])\n",
    "\n",
    "    return str(p1) + str(p2) + s[0] + str(p3) + s[1] + s[2] + s[3]\n",
    "\n"
   ]
  },
  {
   "cell_type": "code",
   "execution_count": 5,
   "metadata": {},
   "outputs": [],
   "source": [
    "assert(encoder(\"1100\") == \"0111100\")\n",
    "assert(encoder(\"1010\") == \"1011010\")\n"
   ]
  },
  {
   "cell_type": "code",
   "execution_count": null,
   "metadata": {},
   "outputs": [],
   "source": []
  }
 ],
 "metadata": {
  "kernelspec": {
   "display_name": "Python 3",
   "language": "python",
   "name": "python3"
  },
  "language_info": {
   "codemirror_mode": {
    "name": "ipython",
    "version": 3
   },
   "file_extension": ".py",
   "mimetype": "text/x-python",
   "name": "python",
   "nbconvert_exporter": "python",
   "pygments_lexer": "ipython3",
   "version": "3.12.3"
  }
 },
 "nbformat": 4,
 "nbformat_minor": 2
}
