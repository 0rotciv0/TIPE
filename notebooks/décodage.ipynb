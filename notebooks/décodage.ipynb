{
 "cells": [
  {
   "cell_type": "code",
   "execution_count": null,
   "id": "9cd8270f",
   "metadata": {},
   "outputs": [],
   "source": [
    "from PIL import Image \n",
    "\n",
    "\n",
    "\n",
    "\n",
    "def extraction(chemin : str, k : int):\n",
    "    assert( 0 <= k <= 8)\n",
    "    im = Image.open(chemin)\n",
    "\n",
    "    y,x = im.size\n",
    "\n",
    "    chaine = \"\"\n",
    "\n",
    "    for i in range(x):\n",
    "        for j in range(y):\n",
    "            pixel = im.getpixel((j,i))\n",
    "            r,g,b = format(pixel[0], \"08b\"), format(pixel[1], \"08b\"), format(pixel[2], \"08b\")\n",
    "            if i == 0 and (j == 0 or j == 1) :\n",
    "                print(r[8-k:],g[8-k:],b[8-k:])\n",
    "            chaine += r[8-k:]\n",
    "            chaine += g[8-k:]\n",
    "            chaine += b[8-k:]\n",
    "\n",
    "\n",
    "\n",
    "    return chaine"
   ]
  },
  {
   "cell_type": "code",
   "execution_count": 28,
   "id": "61ffdfa7",
   "metadata": {},
   "outputs": [
    {
     "name": "stdout",
     "output_type": "stream",
     "text": [
      "0101010 0010010 0001000\n",
      "1010010 0000010 1010001\n"
     ]
    },
    {
     "ename": "IndexError",
     "evalue": "image index out of range",
     "output_type": "error",
     "traceback": [
      "\u001b[1;31m---------------------------------------------------------------------------\u001b[0m",
      "\u001b[1;31mIndexError\u001b[0m                                Traceback (most recent call last)",
      "Cell \u001b[1;32mIn[28], line 1\u001b[0m\n\u001b[1;32m----> 1\u001b[0m \u001b[38;5;28mprint\u001b[39m(\u001b[43mextraction\u001b[49m\u001b[43m(\u001b[49m\u001b[38;5;124;43m\"\u001b[39;49m\u001b[38;5;124;43mC:/Github/TIPE/tests/romeo_7.PNG\u001b[39;49m\u001b[38;5;124;43m\"\u001b[39;49m\u001b[43m,\u001b[49m\u001b[43m \u001b[49m\u001b[38;5;241;43m7\u001b[39;49m\u001b[43m)\u001b[49m[:\u001b[38;5;241m50\u001b[39m])\n",
      "Cell \u001b[1;32mIn[27], line 16\u001b[0m, in \u001b[0;36mextraction\u001b[1;34m(chemin, k)\u001b[0m\n\u001b[0;32m     14\u001b[0m \u001b[38;5;28;01mfor\u001b[39;00m i \u001b[38;5;129;01min\u001b[39;00m \u001b[38;5;28mrange\u001b[39m(x):\n\u001b[0;32m     15\u001b[0m     \u001b[38;5;28;01mfor\u001b[39;00m j \u001b[38;5;129;01min\u001b[39;00m \u001b[38;5;28mrange\u001b[39m(y):\n\u001b[1;32m---> 16\u001b[0m         pixel \u001b[38;5;241m=\u001b[39m \u001b[43mim\u001b[49m\u001b[38;5;241;43m.\u001b[39;49m\u001b[43mgetpixel\u001b[49m\u001b[43m(\u001b[49m\u001b[43m(\u001b[49m\u001b[43mj\u001b[49m\u001b[43m,\u001b[49m\u001b[43mi\u001b[49m\u001b[43m)\u001b[49m\u001b[43m)\u001b[49m\n\u001b[0;32m     17\u001b[0m         r,g,b \u001b[38;5;241m=\u001b[39m \u001b[38;5;28mformat\u001b[39m(pixel[\u001b[38;5;241m0\u001b[39m], \u001b[38;5;124m\"\u001b[39m\u001b[38;5;124m08b\u001b[39m\u001b[38;5;124m\"\u001b[39m), \u001b[38;5;28mformat\u001b[39m(pixel[\u001b[38;5;241m1\u001b[39m], \u001b[38;5;124m\"\u001b[39m\u001b[38;5;124m08b\u001b[39m\u001b[38;5;124m\"\u001b[39m), \u001b[38;5;28mformat\u001b[39m(pixel[\u001b[38;5;241m2\u001b[39m], \u001b[38;5;124m\"\u001b[39m\u001b[38;5;124m08b\u001b[39m\u001b[38;5;124m\"\u001b[39m)\n\u001b[0;32m     18\u001b[0m         \u001b[38;5;28;01mif\u001b[39;00m i \u001b[38;5;241m==\u001b[39m \u001b[38;5;241m0\u001b[39m \u001b[38;5;129;01mand\u001b[39;00m (j \u001b[38;5;241m==\u001b[39m \u001b[38;5;241m0\u001b[39m \u001b[38;5;129;01mor\u001b[39;00m j \u001b[38;5;241m==\u001b[39m \u001b[38;5;241m1\u001b[39m) :\n",
      "File \u001b[1;32m~\\AppData\\Local\\Packages\\PythonSoftwareFoundation.Python.3.11_qbz5n2kfra8p0\\LocalCache\\local-packages\\Python311\\site-packages\\PIL\\Image.py:1590\u001b[0m, in \u001b[0;36mImage.getpixel\u001b[1;34m(self, xy)\u001b[0m\n\u001b[0;32m   1588\u001b[0m \u001b[38;5;28;01mif\u001b[39;00m \u001b[38;5;28mself\u001b[39m\u001b[38;5;241m.\u001b[39mpyaccess:\n\u001b[0;32m   1589\u001b[0m     \u001b[38;5;28;01mreturn\u001b[39;00m \u001b[38;5;28mself\u001b[39m\u001b[38;5;241m.\u001b[39mpyaccess\u001b[38;5;241m.\u001b[39mgetpixel(xy)\n\u001b[1;32m-> 1590\u001b[0m \u001b[38;5;28;01mreturn\u001b[39;00m \u001b[38;5;28;43mself\u001b[39;49m\u001b[38;5;241;43m.\u001b[39;49m\u001b[43mim\u001b[49m\u001b[38;5;241;43m.\u001b[39;49m\u001b[43mgetpixel\u001b[49m\u001b[43m(\u001b[49m\u001b[38;5;28;43mtuple\u001b[39;49m\u001b[43m(\u001b[49m\u001b[43mxy\u001b[49m\u001b[43m)\u001b[49m\u001b[43m)\u001b[49m\n",
      "\u001b[1;31mIndexError\u001b[0m: image index out of range"
     ]
    }
   ],
   "source": [
    "print(extraction(\"C:/Github/TIPE/tests/romeo_7.PNG\", 7)[:50])"
   ]
  },
  {
   "cell_type": "code",
   "execution_count": null,
   "id": "acc5fbf0",
   "metadata": {},
   "outputs": [
    {
     "data": {
      "text/plain": [
       "2"
      ]
     },
     "execution_count": 19,
     "metadata": {},
     "output_type": "execute_result"
    }
   ],
   "source": [
    "chr(int(\"11110000\", 2))\n",
    "5//2"
   ]
  },
  {
   "cell_type": "code",
   "execution_count": null,
   "id": "ef128df8",
   "metadata": {},
   "outputs": [],
   "source": [
    "def convertir(chaine : str, caractere_fin : int):\n",
    "    result = \"\"\n",
    "    for i in range(0, len(chaine), 8):\n",
    "        bloc = chaine[i:i+8]\n",
    "        if bloc == str(caractere_fin) :\n",
    "            print(\"caractere d'arret trouvé !\")\n",
    "            return result\n",
    "        #print(f\"{bloc} -> {chr(int(bloc,2))}\")\n",
    "        result += chr(int(bloc,2))\n",
    "    \n",
    "    return result #on est arrivé au bout de la chaine sans avoir rencontré le caractère de fin\n",
    "        \n"
   ]
  },
  {
   "cell_type": "code",
   "execution_count": null,
   "id": "cab4c15a",
   "metadata": {},
   "outputs": [],
   "source": [
    "def decodage(chemin : str, k : int, caractere_fin):\n",
    "    chaine = extraction(chemin,k)\n",
    "    #print(f\"chaine extraite : {chaine}\")\n",
    "    print(convertir(chaine, caractere_fin))"
   ]
  },
  {
   "cell_type": "code",
   "execution_count": 29,
   "id": "5cb3abdf",
   "metadata": {},
   "outputs": [
    {
     "name": "stdout",
     "output_type": "stream",
     "text": [
      "0101010 0010010 0001000\n",
      "1010010 0000010 1010001\n"
     ]
    },
    {
     "ename": "IndexError",
     "evalue": "image index out of range",
     "output_type": "error",
     "traceback": [
      "\u001b[1;31m---------------------------------------------------------------------------\u001b[0m",
      "\u001b[1;31mIndexError\u001b[0m                                Traceback (most recent call last)",
      "Cell \u001b[1;32mIn[29], line 1\u001b[0m\n\u001b[1;32m----> 1\u001b[0m \u001b[43mdecodage\u001b[49m\u001b[43m(\u001b[49m\u001b[38;5;124;43m\"\u001b[39;49m\u001b[38;5;124;43mC:/Github/TIPE/tests/romeo_7.PNG\u001b[39;49m\u001b[38;5;124;43m\"\u001b[39;49m\u001b[43m,\u001b[49m\u001b[43m \u001b[49m\u001b[38;5;241;43m7\u001b[39;49m\u001b[43m,\u001b[49m\u001b[43m \u001b[49m\u001b[38;5;241;43m11110000\u001b[39;49m\u001b[43m)\u001b[49m\n",
      "Cell \u001b[1;32mIn[21], line 2\u001b[0m, in \u001b[0;36mdecodage\u001b[1;34m(chemin, k, caractere_fin)\u001b[0m\n\u001b[0;32m      1\u001b[0m \u001b[38;5;28;01mdef\u001b[39;00m \u001b[38;5;21mdecodage\u001b[39m(chemin : \u001b[38;5;28mstr\u001b[39m, k : \u001b[38;5;28mint\u001b[39m, caractere_fin):\n\u001b[1;32m----> 2\u001b[0m     chaine \u001b[38;5;241m=\u001b[39m \u001b[43mextraction\u001b[49m\u001b[43m(\u001b[49m\u001b[43mchemin\u001b[49m\u001b[43m,\u001b[49m\u001b[43mk\u001b[49m\u001b[43m)\u001b[49m\n\u001b[0;32m      3\u001b[0m     \u001b[38;5;66;03m#print(f\"chaine extraite : {chaine}\")\u001b[39;00m\n\u001b[0;32m      4\u001b[0m     \u001b[38;5;28mprint\u001b[39m(convertir(chaine, caractere_fin))\n",
      "Cell \u001b[1;32mIn[27], line 16\u001b[0m, in \u001b[0;36mextraction\u001b[1;34m(chemin, k)\u001b[0m\n\u001b[0;32m     14\u001b[0m \u001b[38;5;28;01mfor\u001b[39;00m i \u001b[38;5;129;01min\u001b[39;00m \u001b[38;5;28mrange\u001b[39m(x):\n\u001b[0;32m     15\u001b[0m     \u001b[38;5;28;01mfor\u001b[39;00m j \u001b[38;5;129;01min\u001b[39;00m \u001b[38;5;28mrange\u001b[39m(y):\n\u001b[1;32m---> 16\u001b[0m         pixel \u001b[38;5;241m=\u001b[39m \u001b[43mim\u001b[49m\u001b[38;5;241;43m.\u001b[39;49m\u001b[43mgetpixel\u001b[49m\u001b[43m(\u001b[49m\u001b[43m(\u001b[49m\u001b[43mj\u001b[49m\u001b[43m,\u001b[49m\u001b[43mi\u001b[49m\u001b[43m)\u001b[49m\u001b[43m)\u001b[49m\n\u001b[0;32m     17\u001b[0m         r,g,b \u001b[38;5;241m=\u001b[39m \u001b[38;5;28mformat\u001b[39m(pixel[\u001b[38;5;241m0\u001b[39m], \u001b[38;5;124m\"\u001b[39m\u001b[38;5;124m08b\u001b[39m\u001b[38;5;124m\"\u001b[39m), \u001b[38;5;28mformat\u001b[39m(pixel[\u001b[38;5;241m1\u001b[39m], \u001b[38;5;124m\"\u001b[39m\u001b[38;5;124m08b\u001b[39m\u001b[38;5;124m\"\u001b[39m), \u001b[38;5;28mformat\u001b[39m(pixel[\u001b[38;5;241m2\u001b[39m], \u001b[38;5;124m\"\u001b[39m\u001b[38;5;124m08b\u001b[39m\u001b[38;5;124m\"\u001b[39m)\n\u001b[0;32m     18\u001b[0m         \u001b[38;5;28;01mif\u001b[39;00m i \u001b[38;5;241m==\u001b[39m \u001b[38;5;241m0\u001b[39m \u001b[38;5;129;01mand\u001b[39;00m (j \u001b[38;5;241m==\u001b[39m \u001b[38;5;241m0\u001b[39m \u001b[38;5;129;01mor\u001b[39;00m j \u001b[38;5;241m==\u001b[39m \u001b[38;5;241m1\u001b[39m) :\n",
      "File \u001b[1;32m~\\AppData\\Local\\Packages\\PythonSoftwareFoundation.Python.3.11_qbz5n2kfra8p0\\LocalCache\\local-packages\\Python311\\site-packages\\PIL\\Image.py:1590\u001b[0m, in \u001b[0;36mImage.getpixel\u001b[1;34m(self, xy)\u001b[0m\n\u001b[0;32m   1588\u001b[0m \u001b[38;5;28;01mif\u001b[39;00m \u001b[38;5;28mself\u001b[39m\u001b[38;5;241m.\u001b[39mpyaccess:\n\u001b[0;32m   1589\u001b[0m     \u001b[38;5;28;01mreturn\u001b[39;00m \u001b[38;5;28mself\u001b[39m\u001b[38;5;241m.\u001b[39mpyaccess\u001b[38;5;241m.\u001b[39mgetpixel(xy)\n\u001b[1;32m-> 1590\u001b[0m \u001b[38;5;28;01mreturn\u001b[39;00m \u001b[38;5;28;43mself\u001b[39;49m\u001b[38;5;241;43m.\u001b[39;49m\u001b[43mim\u001b[49m\u001b[38;5;241;43m.\u001b[39;49m\u001b[43mgetpixel\u001b[49m\u001b[43m(\u001b[49m\u001b[38;5;28;43mtuple\u001b[39;49m\u001b[43m(\u001b[49m\u001b[43mxy\u001b[49m\u001b[43m)\u001b[49m\u001b[43m)\u001b[49m\n",
      "\u001b[1;31mIndexError\u001b[0m: image index out of range"
     ]
    }
   ],
   "source": [
    "decodage(\"C:/Github/TIPE/tests/romeo_7.PNG\", 7, 11110000)"
   ]
  },
  {
   "cell_type": "code",
   "execution_count": null,
   "id": "420a8ed1",
   "metadata": {},
   "outputs": [
    {
     "name": "stdout",
     "output_type": "stream",
     "text": [
      "abricot s\n"
     ]
    }
   ],
   "source": [
    "a = \"abricots\"\n",
    "print(a[:7], a[7:])"
   ]
  },
  {
   "cell_type": "code",
   "execution_count": null,
   "id": "a709cc19",
   "metadata": {},
   "outputs": [
    {
     "name": "stdout",
     "output_type": "stream",
     "text": [
      "0 6\n",
      "7 13\n",
      "14 20\n"
     ]
    }
   ],
   "source": [
    "k = 7\n",
    "for m in range(3):\n",
    "    print(m*k,(m+1)*k-1)"
   ]
  },
  {
   "cell_type": "code",
   "execution_count": null,
   "id": "8bd69b94",
   "metadata": {},
   "outputs": [],
   "source": []
  }
 ],
 "metadata": {
  "kernelspec": {
   "display_name": "Python 3",
   "language": "python",
   "name": "python3"
  },
  "language_info": {
   "codemirror_mode": {
    "name": "ipython",
    "version": 3
   },
   "file_extension": ".py",
   "mimetype": "text/x-python",
   "name": "python",
   "nbconvert_exporter": "python",
   "pygments_lexer": "ipython3",
   "version": "3.11.9"
  }
 },
 "nbformat": 4,
 "nbformat_minor": 5
}
